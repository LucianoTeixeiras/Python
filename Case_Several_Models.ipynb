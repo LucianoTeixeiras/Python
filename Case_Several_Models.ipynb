{
 "cells": [
  {
   "cell_type": "markdown",
   "metadata": {},
   "source": [
    "## Data Pre-Processing "
   ]
  },
  {
   "cell_type": "code",
   "execution_count": 2,
   "metadata": {},
   "outputs": [],
   "source": [
    "# Load libraries\n",
    "\n",
    "from sklearn.model_selection import train_test_split\n",
    "from sklearn.metrics import accuracy_score, precision_score, recall_score, f1_score\n",
    "from sklearn.linear_model import LogisticRegression\n",
    "from sklearn.metrics import confusion_matrix\n",
    "from sklearn.preprocessing import MinMaxScaler\n",
    "import sklearn.metrics as metrics\n",
    "\n",
    "import matplotlib.pyplot as plt\n",
    "import pandas as pd\n",
    "import numpy as np"
   ]
  },
  {
   "cell_type": "code",
   "execution_count": 3,
   "metadata": {},
   "outputs": [],
   "source": [
    "# Load data\n",
    "df = pd.read_csv(\"data.txt\", delimiter=\"\\t\")"
   ]
  },
  {
   "cell_type": "code",
   "execution_count": 7,
   "metadata": {},
   "outputs": [
    {
     "data": {
      "text/html": [
       "<div>\n",
       "<style scoped>\n",
       "    .dataframe tbody tr th:only-of-type {\n",
       "        vertical-align: middle;\n",
       "    }\n",
       "\n",
       "    .dataframe tbody tr th {\n",
       "        vertical-align: top;\n",
       "    }\n",
       "\n",
       "    .dataframe thead th {\n",
       "        text-align: right;\n",
       "    }\n",
       "</style>\n",
       "<table border=\"1\" class=\"dataframe\">\n",
       "  <thead>\n",
       "    <tr style=\"text-align: right;\">\n",
       "      <th></th>\n",
       "      <th>Unnamed: 0</th>\n",
       "      <th>x</th>\n",
       "      <th>y</th>\n",
       "      <th>z</th>\n",
       "      <th>label</th>\n",
       "    </tr>\n",
       "  </thead>\n",
       "  <tbody>\n",
       "    <tr>\n",
       "      <th>0</th>\n",
       "      <td>0</td>\n",
       "      <td>326.488285</td>\n",
       "      <td>188.988808</td>\n",
       "      <td>-312.205307</td>\n",
       "      <td>0.0</td>\n",
       "    </tr>\n",
       "  </tbody>\n",
       "</table>\n",
       "</div>"
      ],
      "text/plain": [
       "   Unnamed: 0           x           y           z  label\n",
       "0           0  326.488285  188.988808 -312.205307    0.0"
      ]
     },
     "execution_count": 7,
     "metadata": {},
     "output_type": "execute_result"
    }
   ],
   "source": [
    "# Check first 1 rows\n",
    "df.head(1)"
   ]
  },
  {
   "cell_type": "code",
   "execution_count": 8,
   "metadata": {},
   "outputs": [
    {
     "data": {
      "text/html": [
       "<div>\n",
       "<style scoped>\n",
       "    .dataframe tbody tr th:only-of-type {\n",
       "        vertical-align: middle;\n",
       "    }\n",
       "\n",
       "    .dataframe tbody tr th {\n",
       "        vertical-align: top;\n",
       "    }\n",
       "\n",
       "    .dataframe thead th {\n",
       "        text-align: right;\n",
       "    }\n",
       "</style>\n",
       "<table border=\"1\" class=\"dataframe\">\n",
       "  <thead>\n",
       "    <tr style=\"text-align: right;\">\n",
       "      <th></th>\n",
       "      <th>Unnamed: 0</th>\n",
       "      <th>x</th>\n",
       "      <th>y</th>\n",
       "      <th>z</th>\n",
       "      <th>label</th>\n",
       "    </tr>\n",
       "  </thead>\n",
       "  <tbody>\n",
       "  </tbody>\n",
       "</table>\n",
       "</div>"
      ],
      "text/plain": [
       "Empty DataFrame\n",
       "Columns: [Unnamed: 0, x, y, z, label]\n",
       "Index: []"
      ]
     },
     "execution_count": 8,
     "metadata": {},
     "output_type": "execute_result"
    }
   ],
   "source": [
    "# Check last 0 rows\n",
    "df.tail(0)"
   ]
  },
  {
   "cell_type": "code",
   "execution_count": 5,
   "metadata": {},
   "outputs": [],
   "source": [
    "# There are several warnings due to the solver argument in our models.\n",
    "# This is not a problem, so I will disable.\n",
    "# If this code is used in the future, it might be good to have warnings not disabled.\n",
    "\n",
    "import warnings\n",
    "warnings.filterwarnings('ignore')"
   ]
  },
  {
   "cell_type": "code",
   "execution_count": 6,
   "metadata": {},
   "outputs": [
    {
     "data": {
      "text/plain": [
       "<matplotlib.axes._subplots.AxesSubplot at 0x1a17204198>"
      ]
     },
     "execution_count": 6,
     "metadata": {},
     "output_type": "execute_result"
    },
    {
     "data": {
      "image/png": "[encoded data removed]",
      "text/plain": [
       "<Figure size 1728x720 with 3 Axes>"
      ]
     },
     "metadata": {
      "needs_background": "light"
     },
     "output_type": "display_data"
    }
   ],
   "source": [
    "# Plot non-missing\n",
    "\n",
    "%matplotlib inline\n",
    "import pandas as pd\n",
    "import numpy as np\n",
    "import matplotlib.pyplot as plt\n",
    "from IPython.display import display\n",
    "pd.options.display.max_columns = None\n",
    "import missingno as msno\n",
    "\n",
    "msno.bar(df)"
   ]
  },
  {
   "cell_type": "markdown",
   "metadata": {},
   "source": [
    "## (a) Segregate a test and training frame"
   ]
  },
  {
   "cell_type": "code",
   "execution_count": 7,
   "metadata": {},
   "outputs": [],
   "source": [
    "# Split in train and test\n",
    "X_train, X_test, y_train, y_test = train_test_split(df[['x','y','z']], df[['label']], random_state=0)"
   ]
  },
  {
   "cell_type": "markdown",
   "metadata": {},
   "source": [
    "## (b) Logistic Regression Model and Results"
   ]
  },
  {
   "cell_type": "code",
   "execution_count": 8,
   "metadata": {},
   "outputs": [
    {
     "name": "stdout",
     "output_type": "stream",
     "text": [
      "Accuracy of Logistic regression classifier on training set: 0.55\n",
      "Accuracy of Logistic regression classifier on test set: 0.54\n"
     ]
    }
   ],
   "source": [
    "# Run logistic regression (C parameter control for regularization, solver warning is not a problem)\n",
    "clf = LogisticRegression(C=0.0000001).fit(X_train, y_train.values.ravel())\n",
    "\n",
    "# Check accuracy\n",
    "print('Accuracy of Logistic regression classifier on training set: {:.2f}'\n",
    "     .format(clf.score(X_train, y_train)))\n",
    "print('Accuracy of Logistic regression classifier on test set: {:.2f}'\n",
    "     .format(clf.score(X_test, y_test)))"
   ]
  },
  {
   "cell_type": "markdown",
   "metadata": {},
   "source": [
    "C is the trade-off parameter that determines the strength of the regularization. A higher C increases the chance of overfitting. <br>\n",
    "Also, as mentioned in the book <i>Machine Learning with Python</i> from O'Reilly, <br>\n",
    "<i>\"There is another interesting aspect of how the parameter C acts. Using low values of C will cause the algorithms to try to adjust to the “majority” of data points, while using a higher value of C stresses the importance that each individual data point be classified correctly.\"</i>"
   ]
  },
  {
   "cell_type": "markdown",
   "metadata": {},
   "source": [
    "Now, moving on, we will continue to evaluate our model.<br>\n",
    "There are other metrics to use besides accuracy:<br>\n",
    "- Precision = TP / (TP + FP);<br>\n",
    "- Recall = TP / (TP + FN)  Also known as sensitivity, or True Positive Rate;<br>\n",
    "- F1 = 2 * Precision * Recall / (Precision + Recall)."
   ]
  },
  {
   "cell_type": "code",
   "execution_count": 9,
   "metadata": {},
   "outputs": [
    {
     "name": "stdout",
     "output_type": "stream",
     "text": [
      "Coefficients:\n",
      "[[ 2.66549056e-05  1.06541027e-04 -1.26672189e-04]]\n",
      "\n",
      "Intercept:\n",
      "[5.72610912e-06]\n",
      "\n"
     ]
    }
   ],
   "source": [
    "# Now, let's take a look at the equation. I.e., the coefficients\n",
    "print(\"Coefficients:\")\n",
    "print(clf.coef_) #Prints an array of all regressor values (b1 and b2, or as many bs as your model has)\n",
    "print(\"\")\n",
    "\n",
    "print(\"Intercept:\")\n",
    "print(clf.intercept_)  #Prints value for intercept/b0 \n",
    "print(\"\")"
   ]
  },
  {
   "cell_type": "code",
   "execution_count": 10,
   "metadata": {},
   "outputs": [
    {
     "name": "stdout",
     "output_type": "stream",
     "text": [
      "Optimization terminated successfully.\n",
      "         Current function value: 0.692818\n",
      "         Iterations 3\n",
      "                           Logit Regression Results                           \n",
      "==============================================================================\n",
      "Dep. Variable:                  label   No. Observations:                 7500\n",
      "Model:                          Logit   Df Residuals:                     7497\n",
      "Method:                           MLE   Df Model:                            2\n",
      "Date:                Wed, 05 Feb 2020   Pseudo R-squ.:               0.0003079\n",
      "Time:                        12:29:57   Log-Likelihood:                -5196.1\n",
      "converged:                       True   LL-Null:                       -5197.7\n",
      "                                        LLR p-value:                    0.2018\n",
      "==============================================================================\n",
      "                 coef    std err          z      P>|z|      [0.025      0.975]\n",
      "------------------------------------------------------------------------------\n",
      "x           2.839e-05   8.03e-05      0.353      0.724      -0.000       0.000\n",
      "y              0.0001   8.05e-05      1.410      0.159   -4.43e-05       0.000\n",
      "z             -0.0001   7.97e-05     -1.691      0.091      -0.000    2.15e-05\n",
      "==============================================================================\n"
     ]
    }
   ],
   "source": [
    "# Scikit-Learn doesn't provide the p-value. However, statsmodels do provide.\n",
    "import statsmodels.api as sm\n",
    "logit_model=sm.Logit(y_train,X_train)\n",
    "result=logit_model.fit()\n",
    "print(result.summary())"
   ]
  },
  {
   "cell_type": "markdown",
   "metadata": {},
   "source": [
    "Well, the results are not good at all... The correct thing to do is to fix this regression\n",
    "and then evaluate it. However, since I've already gotten all evaluation metrics, I'll let the code\n",
    "as it is. But you should have in mind that the p-values above are not significant at .5 level."
   ]
  },
  {
   "cell_type": "code",
   "execution_count": 11,
   "metadata": {},
   "outputs": [
    {
     "name": "stdout",
     "output_type": "stream",
     "text": [
      "Predict:\n",
      "[0.]\n",
      "\n"
     ]
    }
   ],
   "source": [
    "# If you want to predict the response for one individual:\n",
    "print(\"Predict:\")\n",
    "print(clf.predict(np.array([[3, 5,8]]))) #Predicts an array of y-values with the fitted model given the inputs\n",
    "print(\"\")"
   ]
  },
  {
   "cell_type": "code",
   "execution_count": 12,
   "metadata": {},
   "outputs": [
    {
     "name": "stdout",
     "output_type": "stream",
     "text": [
      "Precision: 0.52\n",
      "Recall: 0.54\n",
      "F1: 0.53\n"
     ]
    }
   ],
   "source": [
    "print('Precision: {:.2f}'.format(precision_score(y_test, clf.predict(X_test))))\n",
    "print('Recall: {:.2f}'.format(recall_score(y_test, clf.predict(X_test))))\n",
    "print('F1: {:.2f}'.format(f1_score(y_test, clf.predict(X_test))))"
   ]
  },
  {
   "cell_type": "markdown",
   "metadata": {},
   "source": [
    "Also, let's check the confusion matrix:"
   ]
  },
  {
   "cell_type": "code",
   "execution_count": 13,
   "metadata": {},
   "outputs": [
    {
     "name": "stdout",
     "output_type": "stream",
     "text": [
      "Confusion Matrix\n",
      "      0.0  1.0\n",
      "0.0  676  604\n",
      "1.0  556  664\n"
     ]
    }
   ],
   "source": [
    "labels = np.unique(y_test)\n",
    "a =  confusion_matrix(y_test, clf.predict(X_test), labels=labels)\n",
    "print(\"Confusion Matrix\\n\",pd.DataFrame(a, index=labels, columns=labels))"
   ]
  },
  {
   "cell_type": "code",
   "execution_count": 14,
   "metadata": {},
   "outputs": [
    {
     "name": "stdout",
     "output_type": "stream",
     "text": [
      "TN =  676 \n",
      "FP =  604 \n",
      "FN =  556 \n",
      "TP =  664\n"
     ]
    }
   ],
   "source": [
    "# Another way to look at the Confusion Matrix\n",
    "tn, fp, fn, tp = confusion_matrix(y_test, clf.predict(X_test), labels=labels).ravel()\n",
    "print(\"TN = \", tn, \"\\nFP = \", fp, \"\\nFN = \",fn, \"\\nTP = \", tp)"
   ]
  },
  {
   "cell_type": "code",
   "execution_count": 15,
   "metadata": {},
   "outputs": [
    {
     "name": "stdout",
     "output_type": "stream",
     "text": [
      "0.5361936475409835\n"
     ]
    }
   ],
   "source": [
    "# Checking the AUC\n",
    "fpr, tpr, threshold = metrics.roc_curve(y_test, clf.predict(X_test))\n",
    "\n",
    "x = fpr\n",
    "y = tpr \n",
    "\n",
    "# AUC\n",
    "auc = np.trapz(y,x)\n",
    "print(auc)"
   ]
  },
  {
   "cell_type": "code",
   "execution_count": 16,
   "metadata": {},
   "outputs": [
    {
     "data": {
      "text/plain": [
       "['x', 'y', 'z']"
      ]
     },
     "execution_count": 16,
     "metadata": {},
     "output_type": "execute_result"
    }
   ],
   "source": [
    "list(df.columns[1:4])"
   ]
  },
  {
   "cell_type": "code",
   "execution_count": 17,
   "metadata": {},
   "outputs": [
    {
     "data": {
      "text/plain": [
       "range(0, 3)"
      ]
     },
     "execution_count": 17,
     "metadata": {},
     "output_type": "execute_result"
    }
   ],
   "source": [
    "range(df.shape[1]-2)"
   ]
  },
  {
   "cell_type": "code",
   "execution_count": 18,
   "metadata": {},
   "outputs": [
    {
     "data": {
      "text/plain": [
       "<matplotlib.legend.Legend at 0x1a19068b00>"
      ]
     },
     "execution_count": 18,
     "metadata": {},
     "output_type": "execute_result"
    },
    {
     "data": {
      "image/png": "[encoded data removed]",
      "text/plain": [
       "<Figure size 432x288 with 1 Axes>"
      ]
     },
     "metadata": {
      "needs_background": "light"
     },
     "output_type": "display_data"
    }
   ],
   "source": [
    "# Checking the change in accuracy according to change in C\n",
    "clf0000001 = LogisticRegression(C=0.0000001).fit(X_train, y_train.values.ravel())\n",
    "clf1 = LogisticRegression(C=1).fit(X_train, y_train.values.ravel())\n",
    "clf100 = LogisticRegression(C=100).fit(X_train, y_train.values.ravel())\n",
    "\n",
    "plt.plot(clf0000001.score(X_train, y_train), 'o', label=\"C=0000001\")\n",
    "plt.plot(clf1.score(X_train, y_train), '^', label=\"C=1\")\n",
    "plt.plot(clf100.score(X_train, y_train), 'v', label=\"C=100\")\n",
    "plt.ylim(0.52, 0.55)\n",
    "plt.xlabel(\"Coefficient index\")\n",
    "plt.ylabel(\"Coefficient magnitude\")\n",
    "plt.legend()"
   ]
  },
  {
   "cell_type": "code",
   "execution_count": 19,
   "metadata": {},
   "outputs": [
    {
     "data": {
      "text/plain": [
       "<matplotlib.legend.Legend at 0x1a191819b0>"
      ]
     },
     "execution_count": 19,
     "metadata": {},
     "output_type": "execute_result"
    },
    {
     "data": {
      "image/png": "[encoded data removed]",
      "text/plain": [
       "<Figure size 432x288 with 1 Axes>"
      ]
     },
     "metadata": {
      "needs_background": "light"
     },
     "output_type": "display_data"
    }
   ],
   "source": [
    "# Checking the change in coefficients according to change in C\n",
    "clf0000001 = LogisticRegression(C=0.0000001).fit(X_train, y_train.values.ravel())\n",
    "clf1 = LogisticRegression(C=1).fit(X_train, y_train.values.ravel())\n",
    "clf100 = LogisticRegression(C=100).fit(X_train, y_train.values.ravel())\n",
    "\n",
    "plt.plot(clf0000001.coef_.T, 'o', label=\"C=0000001\")\n",
    "plt.plot(clf1.coef_.T, '^', label=\"C=1\")\n",
    "plt.plot(clf100.coef_.T, 'v', label=\"C=100\")\n",
    "plt.xticks(range(df.shape[1]-2), list(df.columns[1:4]), rotation=90)\n",
    "plt.hlines(0, 0, df.shape[1]-2)\n",
    "plt.ylim(-0.0005, 0.0005)\n",
    "plt.xlabel(\"Coefficient index\")\n",
    "plt.ylabel(\"Coefficient magnitude\")\n",
    "plt.legend()"
   ]
  },
  {
   "cell_type": "markdown",
   "metadata": {},
   "source": [
    "Note: Both graphs can be improved by using a loop and increasing the number of C's tested (we might do this later)."
   ]
  },
  {
   "cell_type": "markdown",
   "metadata": {},
   "source": [
    "As we can see, the accuracy of the chosen model is not so good. However, we didn't normalize our data.<br>\n",
    "In other words, the metrics are in different scale and our model could benefit from normalization."
   ]
  },
  {
   "cell_type": "code",
   "execution_count": 20,
   "metadata": {},
   "outputs": [
    {
     "name": "stdout",
     "output_type": "stream",
     "text": [
      "Accuracy of Logistic regression classifier on training set: 0.52\n",
      "Accuracy of Logistic regression classifier on test set: 0.51\n"
     ]
    }
   ],
   "source": [
    "# Split in train and test\n",
    "X_train, X_test, y_train, y_test = train_test_split(df[['x','y','z']], df[['label']], random_state=0)\n",
    "\n",
    "# scale\n",
    "scaler = MinMaxScaler()\n",
    "X_train_scaled = scaler.fit_transform(X_train)\n",
    "X_test_scaled = scaler.transform(X_test)\n",
    "\n",
    "# Run logistic regression (C parameter control for regularization won't improve in this case)\n",
    "clf_scaled = LogisticRegression().fit(X_train_scaled, y_train.values.ravel())\n",
    "\n",
    "# Check accuracy\n",
    "print('Accuracy of Logistic regression classifier on training set: {:.2f}'\n",
    "     .format(clf_scaled.score(X_train_scaled, y_train)))\n",
    "print('Accuracy of Logistic regression classifier on test set: {:.2f}'\n",
    "     .format(clf_scaled.score(X_test_scaled, y_test)))"
   ]
  },
  {
   "cell_type": "code",
   "execution_count": 21,
   "metadata": {},
   "outputs": [
    {
     "name": "stdout",
     "output_type": "stream",
     "text": [
      "Coefficients:\n",
      "[[ 0.02760823  0.11426563 -0.13323565]]\n",
      "\n",
      "Intercept:\n",
      "[0.02626075]\n",
      "\n"
     ]
    }
   ],
   "source": [
    "# Now, let's take a look at the equation. I.e., the coefficients\n",
    "print(\"Coefficients:\")\n",
    "print(clf_scaled.coef_) #Prints an array of all regressor values (b1 and b2, or as many bs as your model has)\n",
    "print(\"\")\n",
    "\n",
    "print(\"Intercept:\")\n",
    "print(clf_scaled.intercept_)  #Prints value for intercept/b0 \n",
    "print(\"\")"
   ]
  },
  {
   "cell_type": "code",
   "execution_count": 22,
   "metadata": {},
   "outputs": [
    {
     "name": "stdout",
     "output_type": "stream",
     "text": [
      "Predict:\n",
      "[0.]\n",
      "\n"
     ]
    }
   ],
   "source": [
    "# If you want to predict the response for one individual:\n",
    "print(\"Predict:\")\n",
    "print(clf_scaled.predict(np.array([[3, 5,8]]))) #Predicts an array of y-values with the fitted model given the inputs\n",
    "print(\"\")"
   ]
  },
  {
   "cell_type": "code",
   "execution_count": 23,
   "metadata": {},
   "outputs": [
    {
     "name": "stdout",
     "output_type": "stream",
     "text": [
      "Precision: 0.50\n",
      "Recall: 0.72\n",
      "F1: 0.59\n",
      "\n",
      "Confusion Matrix\n",
      "      0.0  1.0\n",
      "0.0  393  887\n",
      "1.0  336  884\n",
      "\n",
      "TN =  393 \n",
      "FP =  887 \n",
      "FN =  336 \n",
      "TP =  884\n"
     ]
    }
   ],
   "source": [
    "print('Precision: {:.2f}'.format(precision_score(y_test, clf_scaled.predict(X_test_scaled))))\n",
    "print('Recall: {:.2f}'.format(recall_score(y_test, clf_scaled.predict(X_test_scaled))))\n",
    "print('F1: {:.2f}'.format(f1_score(y_test, clf_scaled.predict(X_test_scaled))))\n",
    "\n",
    "print(\"\")\n",
    "\n",
    "labels = np.unique(y_test)\n",
    "a =  confusion_matrix(y_test, clf_scaled.predict(X_test_scaled), labels=labels)\n",
    "print(\"Confusion Matrix\\n\",pd.DataFrame(a, index=labels, columns=labels))\n",
    "\n",
    "print(\"\")\n",
    "\n",
    "tn, fp, fn, tp = confusion_matrix(y_test, clf_scaled.predict(X_test_scaled), labels=labels).ravel()\n",
    "print(\"TN = \", tn, \"\\nFP = \", fp, \"\\nFN = \",fn, \"\\nTP = \", tp)"
   ]
  },
  {
   "cell_type": "code",
   "execution_count": 24,
   "metadata": {},
   "outputs": [
    {
     "name": "stdout",
     "output_type": "stream",
     "text": [
      "0.5158107069672131\n"
     ]
    }
   ],
   "source": [
    "fpr, tpr, threshold = metrics.roc_curve(y_test, clf_scaled.predict(X_test_scaled))\n",
    "\n",
    "x = fpr\n",
    "y = tpr \n",
    "\n",
    "# AUC\n",
    "auc = np.trapz(y,x)\n",
    "print(auc)"
   ]
  },
  {
   "cell_type": "markdown",
   "metadata": {},
   "source": [
    "It looks like scale isn't the problem.<br>\n",
    "The logistic regression doesn't look like the best option here."
   ]
  },
  {
   "cell_type": "markdown",
   "metadata": {},
   "source": [
    "## Random Forest"
   ]
  },
  {
   "cell_type": "markdown",
   "metadata": {},
   "source": [
    "<b>Why Random Forest?</b><br>\n",
    "A few models could be tested here, such as Decision Trees, SVM and so on.<br>\n",
    "However, since I have to choose one, I would like to go with Random Forest because:<br>\n",
    "- Random Forest is a much robust model, i.e. it has a high performance when comparing to models such as logistic regression;<br>\n",
    "- Since we average several trees, there is less variance than with decision tree (which would be another good choice);<br>\n",
    "\n",
    "The main disadvantages are:<br>\n",
    "- It's less interpretable than models such as decision trees or even logistic regression;<br>\n",
    "- Depending on how much trees you are training, it can have computational costs. This is not our case, so this problem can be ignored;<br>\n",
    "- Considerable risk of overfitting (even though combining several trees reduces the risk compared to a decision tree).<br>\n",
    "\n",
    "Two nice sources to understand Random Forest:\n",
    "- https://towardsdatascience.com/why-random-forest-is-my-favorite-machine-learning-model-b97651fa3706; <br>\n",
    "- https://towardsdatascience.com/understanding-random-forest-58381e0602d2; <br>"
   ]
  },
  {
   "cell_type": "code",
   "execution_count": 25,
   "metadata": {},
   "outputs": [
    {
     "name": "stdout",
     "output_type": "stream",
     "text": [
      "Accuracy of RF classifier on training set: 0.98\n",
      "Accuracy of RF classifier on test set: 0.73\n"
     ]
    },
    {
     "name": "stderr",
     "output_type": "stream",
     "text": [
      "/Users/andremota/anaconda3/lib/python3.7/site-packages/ipykernel_launcher.py:9: DataConversionWarning: A column-vector y was passed when a 1d array was expected. Please change the shape of y to (n_samples,), for example using ravel().\n",
      "  if __name__ == '__main__':\n"
     ]
    }
   ],
   "source": [
    "# Carrega as bibliotecas\n",
    "from sklearn.ensemble import RandomForestClassifier\n",
    "from sklearn.model_selection import train_test_split\n",
    "\n",
    "# Split in train and test\n",
    "X_train, X_test, y_train, y_test = train_test_split(df[['x','y','z']], df[['label']], random_state=0)\n",
    "\n",
    "# run random forest classifier\n",
    "clf_rf = RandomForestClassifier().fit(X_train, y_train)\n",
    "\n",
    "print('Accuracy of RF classifier on training set: {:.2f}'\n",
    "     .format(clf_rf.score(X_train, y_train)))\n",
    "print('Accuracy of RF classifier on test set: {:.2f}'\n",
    "     .format(clf_rf.score(X_test, y_test)))"
   ]
  },
  {
   "cell_type": "markdown",
   "metadata": {},
   "source": [
    "<b>Regarding the model above:</b> the difference among the performance on the training and testing set is too large.<br>\n",
    "I.e., the model might be overfitting. By lowering the max_depth argument, we might get better results.<br>\n",
    "Let's try a new approach:"
   ]
  },
  {
   "cell_type": "code",
   "execution_count": 26,
   "metadata": {},
   "outputs": [
    {
     "name": "stderr",
     "output_type": "stream",
     "text": [
      "/Users/andremota/anaconda3/lib/python3.7/site-packages/ipykernel_launcher.py:2: DataConversionWarning: A column-vector y was passed when a 1d array was expected. Please change the shape of y to (n_samples,), for example using ravel().\n",
      "  \n"
     ]
    },
    {
     "name": "stdout",
     "output_type": "stream",
     "text": [
      "Accuracy of RF classifier on training set: 0.88\n",
      "Accuracy of RF classifier on test set: 0.79\n"
     ]
    }
   ],
   "source": [
    "# run random forest classifier with max_depth different from the default \n",
    "clf_max_depth = RandomForestClassifier(max_depth=15,max_features=3, n_estimators=100).fit(X_train, y_train)\n",
    "\n",
    "print('Accuracy of RF classifier on training set: {:.2f}'\n",
    "     .format(clf_max_depth.score(X_train, y_train)))\n",
    "print('Accuracy of RF classifier on test set: {:.2f}'\n",
    "     .format(clf_max_depth.score(X_test, y_test)))"
   ]
  },
  {
   "cell_type": "code",
   "execution_count": 27,
   "metadata": {},
   "outputs": [
    {
     "name": "stdout",
     "output_type": "stream",
     "text": [
      "Precision: 0.78\n",
      "Recall: 0.79\n",
      "F1: 0.79\n",
      "\n",
      "Confusion Matrix\n",
      "       0.0  1.0\n",
      "0.0  1007  273\n",
      "1.0   255  965\n",
      "\n",
      "TN =  1007 \n",
      "FP =  273 \n",
      "FN =  255 \n",
      "TP =  965\n"
     ]
    }
   ],
   "source": [
    "print('Precision: {:.2f}'.format(precision_score(y_test, clf_max_depth.predict(X_test))))\n",
    "print('Recall: {:.2f}'.format(recall_score(y_test, clf_max_depth.predict(X_test))))\n",
    "print('F1: {:.2f}'.format(f1_score(y_test, clf_max_depth.predict(X_test))))\n",
    "\n",
    "print(\"\")\n",
    "\n",
    "labels = np.unique(y_test)\n",
    "a =  confusion_matrix(y_test, clf_max_depth.predict(X_test), labels=labels)\n",
    "print(\"Confusion Matrix\\n\",pd.DataFrame(a, index=labels, columns=labels))\n",
    "\n",
    "print(\"\")\n",
    "\n",
    "tn, fp, fn, tp = confusion_matrix(y_test, clf_max_depth.predict(X_test), labels=labels).ravel()\n",
    "print(\"TN = \", tn, \"\\nFP = \", fp, \"\\nFN = \",fn, \"\\nTP = \", tp)"
   ]
  },
  {
   "cell_type": "code",
   "execution_count": 28,
   "metadata": {},
   "outputs": [
    {
     "name": "stdout",
     "output_type": "stream",
     "text": [
      "0.7888511782786886\n"
     ]
    }
   ],
   "source": [
    "import matplotlib.pyplot as plt\n",
    "import numpy as np\n",
    "import sklearn.metrics as metrics\n",
    "\n",
    "fpr, tpr, threshold = metrics.roc_curve(y_test, clf_max_depth.predict(X_test))\n",
    "\n",
    "# AUC\n",
    "auc = np.trapz(tpr,fpr)\n",
    "print(auc)"
   ]
  },
  {
   "cell_type": "markdown",
   "metadata": {},
   "source": [
    "This model is our final choice."
   ]
  },
  {
   "cell_type": "markdown",
   "metadata": {},
   "source": [
    "## SVM"
   ]
  },
  {
   "cell_type": "code",
   "execution_count": 29,
   "metadata": {},
   "outputs": [],
   "source": [
    "# Load data\n",
    "import pandas as pd\n",
    "df = pd.read_csv(\"df_points.txt\", delimiter=\"\\t\")"
   ]
  },
  {
   "cell_type": "code",
   "execution_count": 30,
   "metadata": {},
   "outputs": [
    {
     "data": {
      "text/plain": [
       "(10000, 5)"
      ]
     },
     "execution_count": 30,
     "metadata": {},
     "output_type": "execute_result"
    }
   ],
   "source": [
    "df.shape"
   ]
  },
  {
   "cell_type": "code",
   "execution_count": 31,
   "metadata": {},
   "outputs": [
    {
     "data": {
      "text/plain": [
       "(10000, 5)"
      ]
     },
     "execution_count": 31,
     "metadata": {},
     "output_type": "execute_result"
    }
   ],
   "source": [
    "df.shape"
   ]
  },
  {
   "cell_type": "code",
   "execution_count": 41,
   "metadata": {},
   "outputs": [
    {
     "name": "stderr",
     "output_type": "stream",
     "text": [
      "/Users/andremota/anaconda3/lib/python3.7/site-packages/sklearn/utils/validation.py:761: DataConversionWarning: A column-vector y was passed when a 1d array was expected. Please change the shape of y to (n_samples, ), for example using ravel().\n",
      "  y = column_or_1d(y, warn=True)\n"
     ]
    },
    {
     "name": "stdout",
     "output_type": "stream",
     "text": [
      "Breast cancer dataset\n",
      "Accuracy of Linear SVC classifier on training set: 0.54\n",
      "Accuracy of Linear SVC classifier on test set: 0.53\n"
     ]
    },
    {
     "name": "stderr",
     "output_type": "stream",
     "text": [
      "/Users/andremota/anaconda3/lib/python3.7/site-packages/sklearn/svm/base.py:922: ConvergenceWarning: Liblinear failed to converge, increase the number of iterations.\n",
      "  \"the number of iterations.\", ConvergenceWarning)\n"
     ]
    }
   ],
   "source": [
    "from sklearn.svm import LinearSVC\n",
    "\n",
    "# Split in train and test\n",
    "X_train, X_test, y_train, y_test = train_test_split(df[['x','y','z']], df[['label']], random_state=0)\n",
    "\n",
    "clf = LinearSVC(C=.0001).fit(X_train, y_train)\n",
    "print('Breast cancer dataset')\n",
    "print('Accuracy of Linear SVC classifier on training set: {:.2f}'\n",
    "     .format(clf.score(X_train, y_train)))\n",
    "print('Accuracy of Linear SVC classifier on test set: {:.2f}'\n",
    "     .format(clf.score(X_test, y_test)))"
   ]
  },
  {
   "cell_type": "code",
   "execution_count": 49,
   "metadata": {},
   "outputs": [
    {
     "name": "stdout",
     "output_type": "stream",
     "text": [
      "Accuracy of Logistic regression classifier on training set: 0.52\n",
      "Accuracy of Logistic regression classifier on test set: 0.51\n"
     ]
    },
    {
     "name": "stderr",
     "output_type": "stream",
     "text": [
      "/Users/andremota/anaconda3/lib/python3.7/site-packages/sklearn/utils/validation.py:761: DataConversionWarning: A column-vector y was passed when a 1d array was expected. Please change the shape of y to (n_samples, ), for example using ravel().\n",
      "  y = column_or_1d(y, warn=True)\n"
     ]
    }
   ],
   "source": [
    "# Split in train and test\n",
    "X_train, X_test, y_train, y_test = train_test_split(df[['x','y','z']], df[['label']], random_state=0)\n",
    "\n",
    "# scale\n",
    "scaler = MinMaxScaler()\n",
    "X_train_scaled = scaler.fit_transform(X_train)\n",
    "X_test_scaled = scaler.transform(X_test)\n",
    "\n",
    "# Run SVM\n",
    "clf = LinearSVC().fit(X_train_scaled, y_train)\n",
    "\n",
    "# Check accuracy\n",
    "print('Accuracy of Logistic regression classifier on training set: {:.2f}'\n",
    "     .format(clf_scaled.score(X_train_scaled, y_train)))\n",
    "print('Accuracy of Logistic regression classifier on test set: {:.2f}'\n",
    "     .format(clf_scaled.score(X_test_scaled, y_test)))"
   ]
  },
  {
   "cell_type": "markdown",
   "metadata": {},
   "source": [
    "## KNN"
   ]
  },
  {
   "cell_type": "code",
   "execution_count": 64,
   "metadata": {},
   "outputs": [
    {
     "name": "stdout",
     "output_type": "stream",
     "text": [
      "Accuracy of K-NN classifier on training set: 0.78\n",
      "Accuracy of K-NN classifier on test set: 0.77\n"
     ]
    },
    {
     "name": "stderr",
     "output_type": "stream",
     "text": [
      "/Users/andremota/anaconda3/lib/python3.7/site-packages/ipykernel_launcher.py:11: DataConversionWarning: A column-vector y was passed when a 1d array was expected. Please change the shape of y to (n_samples, ), for example using ravel().\n",
      "  # This is added back by InteractiveShellApp.init_path()\n"
     ]
    }
   ],
   "source": [
    "from sklearn.preprocessing import MinMaxScaler\n",
    "from sklearn.neighbors import KNeighborsClassifier\n",
    "\n",
    "X_train, X_test, y_train, y_test = train_test_split(df[['x','y','z']], df[['label']], random_state=0)\n",
    "\n",
    "scaler = MinMaxScaler()\n",
    "X_train_scaled = scaler.fit_transform(X_train)\n",
    "X_test_scaled = scaler.transform(X_test)\n",
    "\n",
    "knn = KNeighborsClassifier(n_neighbors = 30)\n",
    "knn.fit(X_train_scaled, y_train)\n",
    "print('Accuracy of K-NN classifier on training set: {:.2f}'\n",
    "     .format(knn.score(X_train_scaled, y_train)))\n",
    "print('Accuracy of K-NN classifier on test set: {:.2f}'\n",
    "     .format(knn.score(X_test_scaled, y_test)))"
   ]
  },
  {
   "cell_type": "code",
   "execution_count": null,
   "metadata": {},
   "outputs": [],
   "source": []
  }
 ],
 "metadata": {
  "kernelspec": {
   "display_name": "Python 3",
   "language": "python",
   "name": "python3"
  },
  "language_info": {
   "codemirror_mode": {
    "name": "ipython",
    "version": 3
   },
   "file_extension": ".py",
   "mimetype": "text/x-python",
   "name": "python",
   "nbconvert_exporter": "python",
   "pygments_lexer": "ipython3",
   "version": "3.7.1"
  }
 },
 "nbformat": 4,
 "nbformat_minor": 2
}
